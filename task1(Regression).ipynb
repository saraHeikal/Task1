{
  "nbformat": 4,
  "nbformat_minor": 0,
  "metadata": {
    "colab": {
      "name": "Untitled0.ipynb",
      "provenance": [],
      "collapsed_sections": [],
      "authorship_tag": "ABX9TyP3hU+cGIfzy01H0e8zAI9J",
      "include_colab_link": true
    },
    "kernelspec": {
      "name": "python3",
      "display_name": "Python 3"
    }
  },
  "cells": [
    {
      "cell_type": "markdown",
      "metadata": {
        "id": "view-in-github",
        "colab_type": "text"
      },
      "source": [
        "<a href=\"https://colab.research.google.com/github/saraHeikal/Task1/blob/main/task1(Regression).ipynb\" target=\"_parent\"><img src=\"https://colab.research.google.com/assets/colab-badge.svg\" alt=\"Open In Colab\"/></a>"
      ]
    },
    {
      "cell_type": "code",
      "metadata": {
        "colab": {
          "base_uri": "https://localhost:8080/"
        },
        "id": "Y3CtDCSNU--d",
        "outputId": "0b3398e3-8b65-4cba-d145-9ef86ab6c011"
      },
      "source": [
        "import numpy as np\r\n",
        "import matplotlib.pyplot as plt\r\n",
        "import pandas as pd\r\n",
        "dataset = pd.read_csv('https://raw.githubusercontent.com/saraHeikal/Task1/main/Mall_Customers.csv')\r\n",
        "x = dataset.iloc[:, :-1].values\r\n",
        "y = dataset.iloc[:, -1].values\r\n",
        "#print(x)\r\n",
        "from sklearn.compose import ColumnTransformer\r\n",
        "from sklearn.preprocessing import OneHotEncoder\r\n",
        "ct = ColumnTransformer(transformers=[('encoder', OneHotEncoder(), [1])], remainder='passthrough')\r\n",
        "x = np.array(ct.fit_transform(x))\r\n",
        "#print(x)\r\n",
        "from sklearn.model_selection import train_test_split\r\n",
        "x_train, x_test, y_train, y_test = train_test_split(x, y, test_size = 0.2, random_state = 0)\r\n",
        "from sklearn.linear_model import LinearRegression\r\n",
        "regressor = LinearRegression()\r\n",
        "regressor.fit(x_train, y_train)\r\n",
        "y_pred = regressor.predict(x_test)\r\n",
        "np.set_printoptions(precision=2)\r\n",
        "print(np.concatenate((y_pred.reshape(len(y_pred),1), y_test.reshape(len(y_test),1)),1))"
      ],
      "execution_count": 10,
      "outputs": [
        {
          "output_type": "stream",
          "text": [
            "[[41.58 29.  ]\n",
            " [46.36 13.  ]\n",
            " [39.78 46.  ]\n",
            " [42.66 42.  ]\n",
            " [52.82 69.  ]\n",
            " [42.92 15.  ]\n",
            " [60.5  76.  ]\n",
            " [42.61 36.  ]\n",
            " [42.8  15.  ]\n",
            " [48.72 20.  ]\n",
            " [57.1  55.  ]\n",
            " [55.05 77.  ]\n",
            " [51.45 32.  ]\n",
            " [47.29 16.  ]\n",
            " [38.34 51.  ]\n",
            " [59.98 94.  ]\n",
            " [57.88 92.  ]\n",
            " [43.16  9.  ]\n",
            " [56.1  73.  ]\n",
            " [37.23 47.  ]\n",
            " [55.36 88.  ]\n",
            " [52.39 97.  ]\n",
            " [58.87 65.  ]\n",
            " [55.73 73.  ]\n",
            " [32.09 56.  ]\n",
            " [47.07 91.  ]\n",
            " [48.6  90.  ]\n",
            " [50.76 97.  ]\n",
            " [50.64 58.  ]\n",
            " [46.6  28.  ]\n",
            " [54.09 35.  ]\n",
            " [43.46 41.  ]\n",
            " [45.08 17.  ]\n",
            " [61.11 54.  ]\n",
            " [48.56  5.  ]\n",
            " [51.72 85.  ]\n",
            " [47.55 75.  ]\n",
            " [56.07 40.  ]\n",
            " [47.89 44.  ]\n",
            " [37.97 50.  ]]\n"
          ],
          "name": "stdout"
        }
      ]
    }
  ]
}